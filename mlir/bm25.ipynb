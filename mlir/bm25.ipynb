{
 "cells": [
  {
   "cell_type": "code",
   "execution_count": 1,
   "metadata": {},
   "outputs": [],
   "source": [
    "from langdetect import detect, DetectorFactory\n",
    "from langdetect.lang_detect_exception import LangDetectException\n",
    "from tqdm import tqdm\n",
    "import pandas as pd\n",
    "from rank_bm25 import BM25Okapi \n",
    "import ir_datasets"
   ]
  },
  {
   "cell_type": "markdown",
   "metadata": {},
   "source": [
    "## Collecting Data"
   ]
  },
  {
   "cell_type": "code",
   "execution_count": 2,
   "metadata": {},
   "outputs": [],
   "source": [
    "dataset = ir_datasets.load(\"neuclir/1/multi/trec-2023\")"
   ]
  },
  {
   "cell_type": "code",
   "execution_count": null,
   "metadata": {},
   "outputs": [],
   "source": [
    "def random_sample(iterator, sample_size, total_count):\n",
    "    sample_probability = sample_size / total_count\n",
    "    sampled_data = []\n",
    "\n",
    "    for item in iterator:\n",
    "        if random.random() < sample_probability:\n",
    "            sampled_data.append(item)\n",
    "        if len(sampled_data) >= sample_size:\n",
    "            break\n",
    "\n",
    "    return pd.DataFrame(sampled_data)\n",
    "\n",
    "qrels_df = pd.DataFrame(dataset.qrels_iter())\n",
    "documents_df = random_sample(dataset.docs_iter(), 2000000, dataset.docs_count())\n",
    "queries_df = pd.DataFrame(dataset.queries_iter())\n",
    "\n",
    "queries_df = pd.DataFrame(dataset.queries_iter())\n",
    "documents_df = documents_df[documents_df[\"doc_id\"].isin(qrels_doc_ids)]"
   ]
  },
  {
   "cell_type": "code",
   "execution_count": 4,
   "metadata": {},
   "outputs": [],
   "source": [
    "documents_df = pd.read_csv('/Users/mjlee/Documents/Study/HW_2024/IR/Project/MLIR/data/sampled_doc.csv')\n",
    "qrels_df = pd.DataFrame(dataset.qrels_iter())\n",
    "queries_df = pd.DataFrame(dataset.queries_iter())\n",
    "qrels_doc_ids = set(qrels_df[\"doc_id\"])\n",
    "qrels_df = pd.DataFrame(dataset.qrels_iter())\n",
    "documents_df = documents_df[documents_df[\"doc_id\"].isin(qrels_doc_ids)]"
   ]
  },
  {
   "cell_type": "code",
   "execution_count": null,
   "metadata": {},
   "outputs": [
    {
     "data": {
      "text/html": [
       "<div>\n",
       "<style scoped>\n",
       "    .dataframe tbody tr th:only-of-type {\n",
       "        vertical-align: middle;\n",
       "    }\n",
       "\n",
       "    .dataframe tbody tr th {\n",
       "        vertical-align: top;\n",
       "    }\n",
       "\n",
       "    .dataframe thead th {\n",
       "        text-align: right;\n",
       "    }\n",
       "</style>\n",
       "<table border=\"1\" class=\"dataframe\">\n",
       "  <thead>\n",
       "    <tr style=\"text-align: right;\">\n",
       "      <th></th>\n",
       "      <th>Unnamed: 0</th>\n",
       "      <th>doc_id</th>\n",
       "      <th>title</th>\n",
       "      <th>text</th>\n",
       "      <th>url</th>\n",
       "      <th>time</th>\n",
       "      <th>cc_file</th>\n",
       "    </tr>\n",
       "  </thead>\n",
       "  <tbody>\n",
       "    <tr>\n",
       "      <th>0</th>\n",
       "      <td>163</td>\n",
       "      <td>14a0a786-c707-487c-af0a-16ef97e1d023</td>\n",
       "      <td>越捷航空連三年獲評為「最佳超低廉航空公司」 - 生活</td>\n",
       "      <td>AirlineRatings頒發越捷航空 2020「最佳超低廉航空公司」殊榮。圖：越捷提供\\...</td>\n",
       "      <td>https://www.chinatimes.com/realtimenews/201911...</td>\n",
       "      <td>2019-11-27T15:44:07+08:00</td>\n",
       "      <td>crawl-data/CC-NEWS/2019/11/CC-NEWS-20191127083...</td>\n",
       "    </tr>\n",
       "    <tr>\n",
       "      <th>1</th>\n",
       "      <td>232</td>\n",
       "      <td>fc24998f-6ed8-43f5-93aa-f71244cd50af</td>\n",
       "      <td>精品包用酒精消毒小心壞掉！快來學4招正確、實用的「清潔技巧」</td>\n",
       "      <td>疫情期間只要一出門，回到家就要把隨身物品消毒一次，那麼大家都是如何幫心愛的精品包消毒呢？其實...</td>\n",
       "      <td>https://fashion.ettoday.net/news/2024734?from=...</td>\n",
       "      <td>2021-07-08T09:09:00+08:00</td>\n",
       "      <td>crawl-data/CC-NEWS/2021/07/CC-NEWS-20210708003...</td>\n",
       "    </tr>\n",
       "    <tr>\n",
       "      <th>2</th>\n",
       "      <td>250</td>\n",
       "      <td>b6c8165f-b19a-4d47-84b9-0c7c7e450cf6</td>\n",
       "      <td>一室枯山水 喝一杯手冲咖啡忘憂 - 20210708 - 副刊</td>\n",
       "      <td>手搖凍啡 入口柔順\\n\\n一般禪味的café均以茶品為主，不過店家主打咖啡，設有手冲咖啡菜單...</td>\n",
       "      <td>https://news.mingpao.com/pns/%E5%89%AF%E5%88%8...</td>\n",
       "      <td>NaN</td>\n",
       "      <td>crawl-data/CC-NEWS/2021/07/CC-NEWS-20210708003...</td>\n",
       "    </tr>\n",
       "    <tr>\n",
       "      <th>3</th>\n",
       "      <td>301</td>\n",
       "      <td>42dfc137-e3b8-4ea5-ba96-6914dc6afc1f</td>\n",
       "      <td>《電子零件》車用、儲能雙引擎 系統電6月營收月增5.97％ - 財經</td>\n",
       "      <td>系統電(5309)因車用及儲能產品需求強勁，6月合併營收為2.13億元，月成長5.97%，系...</td>\n",
       "      <td>https://www.chinatimes.com/realtimenews/202107...</td>\n",
       "      <td>2021-07-08T09:44:29+08:00</td>\n",
       "      <td>crawl-data/CC-NEWS/2021/07/CC-NEWS-20210708022...</td>\n",
       "    </tr>\n",
       "    <tr>\n",
       "      <th>4</th>\n",
       "      <td>306</td>\n",
       "      <td>e6887499-98df-4408-a6aa-c002a76cc801</td>\n",
       "      <td>富商遇死劫！小20歲嫩妻崩潰痛哭 遭警識破「全是演戲」</td>\n",
       "      <td>記者張寧倢／編譯\\n\\n印尼巴布亞省（Papua）於6月28日發生一起劫車殺人的嚴重社會案件...</td>\n",
       "      <td>https://www.ettoday.net/news/20210708/2025480....</td>\n",
       "      <td>2021-07-08T10:40:00+08:00</td>\n",
       "      <td>crawl-data/CC-NEWS/2021/07/CC-NEWS-20210708041...</td>\n",
       "    </tr>\n",
       "  </tbody>\n",
       "</table>\n",
       "</div>"
      ],
      "text/plain": [
       "   Unnamed: 0                                doc_id  \\\n",
       "0         163  14a0a786-c707-487c-af0a-16ef97e1d023   \n",
       "1         232  fc24998f-6ed8-43f5-93aa-f71244cd50af   \n",
       "2         250  b6c8165f-b19a-4d47-84b9-0c7c7e450cf6   \n",
       "3         301  42dfc137-e3b8-4ea5-ba96-6914dc6afc1f   \n",
       "4         306  e6887499-98df-4408-a6aa-c002a76cc801   \n",
       "\n",
       "                                title  \\\n",
       "0          越捷航空連三年獲評為「最佳超低廉航空公司」 - 生活   \n",
       "1      精品包用酒精消毒小心壞掉！快來學4招正確、實用的「清潔技巧」   \n",
       "2     一室枯山水 喝一杯手冲咖啡忘憂 - 20210708 - 副刊   \n",
       "3  《電子零件》車用、儲能雙引擎 系統電6月營收月增5.97％ - 財經   \n",
       "4         富商遇死劫！小20歲嫩妻崩潰痛哭 遭警識破「全是演戲」   \n",
       "\n",
       "                                                text  \\\n",
       "0  AirlineRatings頒發越捷航空 2020「最佳超低廉航空公司」殊榮。圖：越捷提供\\...   \n",
       "1  疫情期間只要一出門，回到家就要把隨身物品消毒一次，那麼大家都是如何幫心愛的精品包消毒呢？其實...   \n",
       "2  手搖凍啡 入口柔順\\n\\n一般禪味的café均以茶品為主，不過店家主打咖啡，設有手冲咖啡菜單...   \n",
       "3  系統電(5309)因車用及儲能產品需求強勁，6月合併營收為2.13億元，月成長5.97%，系...   \n",
       "4  記者張寧倢／編譯\\n\\n印尼巴布亞省（Papua）於6月28日發生一起劫車殺人的嚴重社會案件...   \n",
       "\n",
       "                                                 url  \\\n",
       "0  https://www.chinatimes.com/realtimenews/201911...   \n",
       "1  https://fashion.ettoday.net/news/2024734?from=...   \n",
       "2  https://news.mingpao.com/pns/%E5%89%AF%E5%88%8...   \n",
       "3  https://www.chinatimes.com/realtimenews/202107...   \n",
       "4  https://www.ettoday.net/news/20210708/2025480....   \n",
       "\n",
       "                        time  \\\n",
       "0  2019-11-27T15:44:07+08:00   \n",
       "1  2021-07-08T09:09:00+08:00   \n",
       "2                        NaN   \n",
       "3  2021-07-08T09:44:29+08:00   \n",
       "4  2021-07-08T10:40:00+08:00   \n",
       "\n",
       "                                             cc_file  \n",
       "0  crawl-data/CC-NEWS/2019/11/CC-NEWS-20191127083...  \n",
       "1  crawl-data/CC-NEWS/2021/07/CC-NEWS-20210708003...  \n",
       "2  crawl-data/CC-NEWS/2021/07/CC-NEWS-20210708003...  \n",
       "3  crawl-data/CC-NEWS/2021/07/CC-NEWS-20210708022...  \n",
       "4  crawl-data/CC-NEWS/2021/07/CC-NEWS-20210708041...  "
      ]
     },
     "execution_count": 6,
     "metadata": {},
     "output_type": "execute_result"
    }
   ],
   "source": [
    "documents_df.head()"
   ]
  },
  {
   "cell_type": "code",
   "execution_count": null,
   "metadata": {},
   "outputs": [
    {
     "data": {
      "text/html": [
       "<div>\n",
       "<style scoped>\n",
       "    .dataframe tbody tr th:only-of-type {\n",
       "        vertical-align: middle;\n",
       "    }\n",
       "\n",
       "    .dataframe tbody tr th {\n",
       "        vertical-align: top;\n",
       "    }\n",
       "\n",
       "    .dataframe thead th {\n",
       "        text-align: right;\n",
       "    }\n",
       "</style>\n",
       "<table border=\"1\" class=\"dataframe\">\n",
       "  <thead>\n",
       "    <tr style=\"text-align: right;\">\n",
       "      <th></th>\n",
       "      <th>query_id</th>\n",
       "      <th>title</th>\n",
       "      <th>description</th>\n",
       "      <th>narrative</th>\n",
       "      <th>fa_mt_title</th>\n",
       "      <th>fa_mt_description</th>\n",
       "      <th>fa_mt_narrative</th>\n",
       "      <th>ru_mt_title</th>\n",
       "      <th>ru_mt_description</th>\n",
       "      <th>ru_mt_narrative</th>\n",
       "      <th>zh_mt_title</th>\n",
       "      <th>zh_mt_description</th>\n",
       "      <th>zh_mt_narrative</th>\n",
       "    </tr>\n",
       "  </thead>\n",
       "  <tbody>\n",
       "    <tr>\n",
       "      <th>0</th>\n",
       "      <td>200</td>\n",
       "      <td>Corruption Bribery Sports Federation Olympics</td>\n",
       "      <td>Are there cases of Institutional Corruption an...</td>\n",
       "      <td>We are Looking for articles that contain a cas...</td>\n",
       "      <td>المپیک فدراسیون ورزشی رشوه خواری فساد</td>\n",
       "      <td>آیا مواردی از فساد نهادی و رشوه خواری در ورزش ...</td>\n",
       "      <td>ما به دنبال مقالاتی هستیم که حاوی یک مورد فساد...</td>\n",
       "      <td>Олимпийские игры Федерации спортивных игр корр...</td>\n",
       "      <td>Существуют ли случаи институциональной коррупц...</td>\n",
       "      <td>Мы ищем статьи, которые содержат случай финанс...</td>\n",
       "      <td>腐败贿赂体育联合会奥运会</td>\n",
       "      <td>体育中是否存在机构腐败和贿赂的案例？</td>\n",
       "      <td>我们正在寻找在机构层面上包含金融腐败或贿赂案件的文章。奥运会和体育联合会中的贿赂案件是相关的...</td>\n",
       "    </tr>\n",
       "    <tr>\n",
       "      <th>1</th>\n",
       "      <td>201</td>\n",
       "      <td>China investment in Iran</td>\n",
       "      <td>In what fields or industries China’s investmen...</td>\n",
       "      <td>We need articles that specify at least one fie...</td>\n",
       "      <td>سرمایه گذاری چین در ایران</td>\n",
       "      <td>در کدام زمینه ها یا صنایع سرمایه گذاری چین در ...</td>\n",
       "      <td>ما به مقالاتی نیاز داریم که حداقل یک زمینه سرم...</td>\n",
       "      <td>Китайские инвестиции в Иран</td>\n",
       "      <td>В каких областях или промышленности инвестиции...</td>\n",
       "      <td>Нам нужны статьи, в которых указано хотя бы од...</td>\n",
       "      <td>中国对伊朗的投资</td>\n",
       "      <td>在哪些领域或行业中，中国对伊朗的投资是？</td>\n",
       "      <td>我们需要至少指定一个投资领域的文章，无论是皮带和道路倡议，石油，水坝等。货币的投资金额不提及...</td>\n",
       "    </tr>\n",
       "    <tr>\n",
       "      <th>2</th>\n",
       "      <td>202</td>\n",
       "      <td>Emerging technologies, precision farming, smar...</td>\n",
       "      <td>What are some of the latest emerging technolog...</td>\n",
       "      <td>Find articles on emerging technologies in prec...</td>\n",
       "      <td>فن آوری های نوظهور ، کشاورزی دقیق ، کشاورزی هو...</td>\n",
       "      <td>برخی از جدیدترین فن آوری های نوظهور که صنعت کش...</td>\n",
       "      <td>مقالاتی در مورد فن آوری های نوظهور در کشاورزی ...</td>\n",
       "      <td>Новые технологии, точное сельское хозяйство, у...</td>\n",
       "      <td>Каковы некоторые из последних новых технологий...</td>\n",
       "      <td>Найдите статьи о новых технологиях в области т...</td>\n",
       "      <td>新兴技术，精确农业，智能农业，农业</td>\n",
       "      <td>哪些最新的新兴技术正在改变农业行业？</td>\n",
       "      <td>查找有关精确农业和农业中新兴技术的文章，这些文章提供了这些技术如何用于提高农作物产量并提高农...</td>\n",
       "    </tr>\n",
       "    <tr>\n",
       "      <th>3</th>\n",
       "      <td>203</td>\n",
       "      <td>Ever Given's Stuck</td>\n",
       "      <td>Find information about the ship Ever Given bei...</td>\n",
       "      <td>Find articles on the event when the container ...</td>\n",
       "      <td>تا به حال گیر کرده است</td>\n",
       "      <td>اطلاعات مربوط به کشتی را که در کانال سوئز گیر ...</td>\n",
       "      <td>مقالاتی را در مورد این رویداد پیدا کنید که کشت...</td>\n",
       "      <td>Когда -либо дал застрял</td>\n",
       "      <td>Найдите информацию о корабле, когда -либо заст...</td>\n",
       "      <td>Найдите статьи на мероприятии, когда контейнер...</td>\n",
       "      <td>曾经被卡住了</td>\n",
       "      <td>查找有关被困在苏伊士运河的船的信息</td>\n",
       "      <td>在2021年春季遇到的集装箱船被困在苏伊士运河中时，请查找有关事件的事件的文章。包括有关事件...</td>\n",
       "    </tr>\n",
       "    <tr>\n",
       "      <th>4</th>\n",
       "      <td>204</td>\n",
       "      <td>Penalty doping sports stop</td>\n",
       "      <td>What strategies are used to reduce/stop doping...</td>\n",
       "      <td>Any mention of the monetary penalties or exclu...</td>\n",
       "      <td>مجازات دوپینگ ورزش توقف</td>\n",
       "      <td>از چه استراتژی هایی برای کاهش/متوقف کردن دوپین...</td>\n",
       "      <td>هرگونه ذکر مجازات های پولی یا محرومیت تیم ها ی...</td>\n",
       "      <td>Спортивная остановка пенальти</td>\n",
       "      <td>Какие стратегии используются для уменьшения/ос...</td>\n",
       "      <td>Любое упоминание о денежных наказаниях или иск...</td>\n",
       "      <td>点球兴奋剂运动停止</td>\n",
       "      <td>哪些策略用于减少运动中的掺杂？</td>\n",
       "      <td>包括任何提及货币罚款或排除在团队中或夺回奖牌的罚款。接受掺杂的测试将不被视为预防措施。</td>\n",
       "    </tr>\n",
       "  </tbody>\n",
       "</table>\n",
       "</div>"
      ],
      "text/plain": [
       "  query_id                                              title  \\\n",
       "0      200      Corruption Bribery Sports Federation Olympics   \n",
       "1      201                           China investment in Iran   \n",
       "2      202  Emerging technologies, precision farming, smar...   \n",
       "3      203                                 Ever Given's Stuck   \n",
       "4      204                         Penalty doping sports stop   \n",
       "\n",
       "                                         description  \\\n",
       "0  Are there cases of Institutional Corruption an...   \n",
       "1  In what fields or industries China’s investmen...   \n",
       "2  What are some of the latest emerging technolog...   \n",
       "3  Find information about the ship Ever Given bei...   \n",
       "4  What strategies are used to reduce/stop doping...   \n",
       "\n",
       "                                           narrative  \\\n",
       "0  We are Looking for articles that contain a cas...   \n",
       "1  We need articles that specify at least one fie...   \n",
       "2  Find articles on emerging technologies in prec...   \n",
       "3  Find articles on the event when the container ...   \n",
       "4  Any mention of the monetary penalties or exclu...   \n",
       "\n",
       "                                         fa_mt_title  \\\n",
       "0              المپیک فدراسیون ورزشی رشوه خواری فساد   \n",
       "1                          سرمایه گذاری چین در ایران   \n",
       "2  فن آوری های نوظهور ، کشاورزی دقیق ، کشاورزی هو...   \n",
       "3                             تا به حال گیر کرده است   \n",
       "4                            مجازات دوپینگ ورزش توقف   \n",
       "\n",
       "                                   fa_mt_description  \\\n",
       "0  آیا مواردی از فساد نهادی و رشوه خواری در ورزش ...   \n",
       "1  در کدام زمینه ها یا صنایع سرمایه گذاری چین در ...   \n",
       "2  برخی از جدیدترین فن آوری های نوظهور که صنعت کش...   \n",
       "3  اطلاعات مربوط به کشتی را که در کانال سوئز گیر ...   \n",
       "4  از چه استراتژی هایی برای کاهش/متوقف کردن دوپین...   \n",
       "\n",
       "                                     fa_mt_narrative  \\\n",
       "0  ما به دنبال مقالاتی هستیم که حاوی یک مورد فساد...   \n",
       "1  ما به مقالاتی نیاز داریم که حداقل یک زمینه سرم...   \n",
       "2  مقالاتی در مورد فن آوری های نوظهور در کشاورزی ...   \n",
       "3  مقالاتی را در مورد این رویداد پیدا کنید که کشت...   \n",
       "4  هرگونه ذکر مجازات های پولی یا محرومیت تیم ها ی...   \n",
       "\n",
       "                                         ru_mt_title  \\\n",
       "0  Олимпийские игры Федерации спортивных игр корр...   \n",
       "1                        Китайские инвестиции в Иран   \n",
       "2  Новые технологии, точное сельское хозяйство, у...   \n",
       "3                            Когда -либо дал застрял   \n",
       "4                      Спортивная остановка пенальти   \n",
       "\n",
       "                                   ru_mt_description  \\\n",
       "0  Существуют ли случаи институциональной коррупц...   \n",
       "1  В каких областях или промышленности инвестиции...   \n",
       "2  Каковы некоторые из последних новых технологий...   \n",
       "3  Найдите информацию о корабле, когда -либо заст...   \n",
       "4  Какие стратегии используются для уменьшения/ос...   \n",
       "\n",
       "                                     ru_mt_narrative        zh_mt_title  \\\n",
       "0  Мы ищем статьи, которые содержат случай финанс...       腐败贿赂体育联合会奥运会   \n",
       "1  Нам нужны статьи, в которых указано хотя бы од...           中国对伊朗的投资   \n",
       "2  Найдите статьи о новых технологиях в области т...  新兴技术，精确农业，智能农业，农业   \n",
       "3  Найдите статьи на мероприятии, когда контейнер...             曾经被卡住了   \n",
       "4  Любое упоминание о денежных наказаниях или иск...          点球兴奋剂运动停止   \n",
       "\n",
       "      zh_mt_description                                    zh_mt_narrative  \n",
       "0    体育中是否存在机构腐败和贿赂的案例？  我们正在寻找在机构层面上包含金融腐败或贿赂案件的文章。奥运会和体育联合会中的贿赂案件是相关的...  \n",
       "1  在哪些领域或行业中，中国对伊朗的投资是？  我们需要至少指定一个投资领域的文章，无论是皮带和道路倡议，石油，水坝等。货币的投资金额不提及...  \n",
       "2    哪些最新的新兴技术正在改变农业行业？  查找有关精确农业和农业中新兴技术的文章，这些文章提供了这些技术如何用于提高农作物产量并提高农...  \n",
       "3     查找有关被困在苏伊士运河的船的信息  在2021年春季遇到的集装箱船被困在苏伊士运河中时，请查找有关事件的事件的文章。包括有关事件...  \n",
       "4       哪些策略用于减少运动中的掺杂？        包括任何提及货币罚款或排除在团队中或夺回奖牌的罚款。接受掺杂的测试将不被视为预防措施。  "
      ]
     },
     "execution_count": 7,
     "metadata": {},
     "output_type": "execute_result"
    }
   ],
   "source": [
    "queries_df.head()"
   ]
  },
  {
   "cell_type": "markdown",
   "metadata": {},
   "source": [
    "## Preprocessing"
   ]
  },
  {
   "cell_type": "code",
   "execution_count": 5,
   "metadata": {},
   "outputs": [
    {
     "name": "stdout",
     "output_type": "stream",
     "text": [
      "language\n",
      "zh    5178\n",
      "fa    5050\n",
      "ru    4970\n",
      "en      65\n",
      "vi      27\n",
      "no      11\n",
      "es       5\n",
      "pt       4\n",
      "ca       3\n",
      "fr       3\n",
      "bg       3\n",
      "cy       2\n",
      "ar       2\n",
      "sw       1\n",
      "et       1\n",
      "Name: count, dtype: int64\n"
     ]
    }
   ],
   "source": [
    "from langdetect import detect, DetectorFactory\n",
    "from langdetect.lang_detect_exception import LangDetectException\n",
    "\n",
    "documents_df['text'] = documents_df['text'].fillna('') \n",
    "documents_df = documents_df[documents_df['text'].str.strip() != '']\n",
    "\n",
    "DetectorFactory.seed = 0\n",
    "\n",
    "def safe_detect_language(text):\n",
    "    try:\n",
    "        return detect(text)\n",
    "    except LangDetectException:\n",
    "        return \"unknown\" \n",
    "\n",
    "documents_df['language'] = documents_df['text'].apply(safe_detect_language)\n",
    "\n",
    "\n",
    "documents_df['language'] = documents_df['language'].replace({'zh-tw': 'zh', 'zh-cn': 'zh', \"ko\": 'zh'})\n",
    "documents_df = documents_df[documents_df['language'] != 'unknown']\n",
    "\n",
    "print(documents_df['language'].value_counts())\n",
    "\n",
    "documents_by_language = {\n",
    "    lang: docs.reset_index(drop=True)\n",
    "    for lang, docs in documents_df.groupby('language')\n",
    "}"
   ]
  },
  {
   "cell_type": "code",
   "execution_count": 6,
   "metadata": {},
   "outputs": [],
   "source": [
    "query_languages = ['fa', 'ru', 'zh']\n",
    "queries_multilingual = {lang: queries_df[['query_id', f'{lang}_mt_title']].rename(columns={f'{lang}_mt_title': 'query_text'}) for lang in query_languages}"
   ]
  },
  {
   "cell_type": "markdown",
   "metadata": {},
   "source": [
    "## Ranking Documents using BM25"
   ]
  },
  {
   "cell_type": "code",
   "execution_count": 7,
   "metadata": {},
   "outputs": [
    {
     "name": "stdout",
     "output_type": "stream",
     "text": [
      "Processing BM25 for queries in fa...\n"
     ]
    },
    {
     "name": "stderr",
     "output_type": "stream",
     "text": [
      "Retrieving for fa: 100%|██████████| 76/76 [00:00<00:00, 123.47it/s]\n"
     ]
    },
    {
     "name": "stdout",
     "output_type": "stream",
     "text": [
      "Processing BM25 for queries in ru...\n"
     ]
    },
    {
     "name": "stderr",
     "output_type": "stream",
     "text": [
      "Retrieving for ru: 100%|██████████| 76/76 [00:00<00:00, 154.30it/s]\n"
     ]
    },
    {
     "name": "stdout",
     "output_type": "stream",
     "text": [
      "Processing BM25 for queries in zh...\n"
     ]
    },
    {
     "name": "stderr",
     "output_type": "stream",
     "text": [
      "Retrieving for zh: 100%|██████████| 76/76 [00:00<00:00, 776.66it/s]\n"
     ]
    }
   ],
   "source": [
    "bm25_results = {}\n",
    "\n",
    "for query_lang, query_df in queries_multilingual.items():\n",
    "    print(f\"Processing BM25 for queries in {query_lang}...\")\n",
    "\n",
    "    # Select the corresponding document set\n",
    "    if query_lang in documents_by_language:\n",
    "        docs = documents_by_language[query_lang]\n",
    "        doc_texts = docs['text'].tolist()\n",
    "        doc_ids = docs['doc_id'].tolist()\n",
    "\n",
    "        bm25 = BM25Okapi([doc.split() for doc in doc_texts])  # Tokenize documents\n",
    "\n",
    "        # Process each query\n",
    "        for _, row in tqdm(query_df.iterrows(), total=len(query_df), desc=f\"Retrieving for {query_lang}\"):\n",
    "            query_id = row['query_id']\n",
    "            query_text = row['query_text']\n",
    "            \n",
    "            # Tokenize query\n",
    "            query_tokens = query_text.split()\n",
    "            \n",
    "            scores = bm25.get_scores(query_tokens)\n",
    "            \n",
    "            top_n = 10\n",
    "            top_indices = sorted(range(len(scores)), key=lambda i: scores[i], reverse=True)[:top_n]\n",
    "            top_docs = [(doc_ids[i], scores[i]) for i in top_indices]\n",
    "\n",
    "            # Store results\n",
    "            bm25_results[(query_id, query_lang)] = top_docs"
   ]
  },
  {
   "cell_type": "code",
   "execution_count": 8,
   "metadata": {},
   "outputs": [],
   "source": [
    "bm25_results_df = pd.DataFrame([\n",
    "    {\"query_id\": query_id, \"query_lang\": query_lang, \"doc_id\": doc_id, \"score\": score}\n",
    "    for (query_id, query_lang), docs in bm25_results.items()\n",
    "    for doc_id, score in docs\n",
    "])"
   ]
  },
  {
   "cell_type": "code",
   "execution_count": 9,
   "metadata": {},
   "outputs": [
    {
     "name": "stdout",
     "output_type": "stream",
     "text": [
      "query_lang\n",
      "fa    76\n",
      "ru    76\n",
      "zh    76\n",
      "Name: query_id, dtype: int64\n"
     ]
    },
    {
     "data": {
      "text/html": [
       "<div>\n",
       "<style scoped>\n",
       "    .dataframe tbody tr th:only-of-type {\n",
       "        vertical-align: middle;\n",
       "    }\n",
       "\n",
       "    .dataframe tbody tr th {\n",
       "        vertical-align: top;\n",
       "    }\n",
       "\n",
       "    .dataframe thead th {\n",
       "        text-align: right;\n",
       "    }\n",
       "</style>\n",
       "<table border=\"1\" class=\"dataframe\">\n",
       "  <thead>\n",
       "    <tr style=\"text-align: right;\">\n",
       "      <th></th>\n",
       "      <th>query_id</th>\n",
       "      <th>query_lang</th>\n",
       "      <th>doc_id</th>\n",
       "      <th>score</th>\n",
       "    </tr>\n",
       "  </thead>\n",
       "  <tbody>\n",
       "    <tr>\n",
       "      <th>0</th>\n",
       "      <td>200</td>\n",
       "      <td>fa</td>\n",
       "      <td>de8bb4aa-a22f-4c47-9470-ca75a674b489</td>\n",
       "      <td>29.132540</td>\n",
       "    </tr>\n",
       "    <tr>\n",
       "      <th>1</th>\n",
       "      <td>200</td>\n",
       "      <td>fa</td>\n",
       "      <td>cc1cdb83-6e1b-4239-85b3-e30a19c90772</td>\n",
       "      <td>27.433842</td>\n",
       "    </tr>\n",
       "    <tr>\n",
       "      <th>2</th>\n",
       "      <td>200</td>\n",
       "      <td>fa</td>\n",
       "      <td>cf7ada1c-be4d-4293-bb8b-a69bb78f6edf</td>\n",
       "      <td>22.779131</td>\n",
       "    </tr>\n",
       "    <tr>\n",
       "      <th>3</th>\n",
       "      <td>200</td>\n",
       "      <td>fa</td>\n",
       "      <td>e48abf16-9e3d-4c04-9f6f-e2e3d8da4de7</td>\n",
       "      <td>21.519012</td>\n",
       "    </tr>\n",
       "    <tr>\n",
       "      <th>4</th>\n",
       "      <td>200</td>\n",
       "      <td>fa</td>\n",
       "      <td>4b148174-3bbf-4dd5-ae6e-9523b2c70e5e</td>\n",
       "      <td>21.434446</td>\n",
       "    </tr>\n",
       "  </tbody>\n",
       "</table>\n",
       "</div>"
      ],
      "text/plain": [
       "  query_id query_lang                                doc_id      score\n",
       "0      200         fa  de8bb4aa-a22f-4c47-9470-ca75a674b489  29.132540\n",
       "1      200         fa  cc1cdb83-6e1b-4239-85b3-e30a19c90772  27.433842\n",
       "2      200         fa  cf7ada1c-be4d-4293-bb8b-a69bb78f6edf  22.779131\n",
       "3      200         fa  e48abf16-9e3d-4c04-9f6f-e2e3d8da4de7  21.519012\n",
       "4      200         fa  4b148174-3bbf-4dd5-ae6e-9523b2c70e5e  21.434446"
      ]
     },
     "execution_count": 9,
     "metadata": {},
     "output_type": "execute_result"
    }
   ],
   "source": [
    "print(bm25_results_df.groupby('query_lang')['query_id'].nunique())\n",
    "bm25_results_df.head()"
   ]
  },
  {
   "cell_type": "markdown",
   "metadata": {},
   "source": [
    "## Evaluation"
   ]
  },
  {
   "cell_type": "code",
   "execution_count": null,
   "metadata": {},
   "outputs": [
    {
     "name": "stdout",
     "output_type": "stream",
     "text": [
      "15933\n"
     ]
    }
   ],
   "source": [
    "# filtered qrels dataset for evaluation \n",
    "valid_doc_ids = set(documents_df['doc_id'])\n",
    "qrels_df = pd.DataFrame(dataset.qrels_iter())\n",
    "qrels_df = qrels_df[qrels_df['doc_id'].isin(valid_doc_ids)]\n",
    "print(qrels_df.shape[0])"
   ]
  },
  {
   "cell_type": "code",
   "execution_count": 11,
   "metadata": {},
   "outputs": [
    {
     "name": "stdout",
     "output_type": "stream",
     "text": [
      "Evaluation Metrics:\n",
      "AP: 0.0848687071753339\n",
      "R@100: 0.1646446392334767\n",
      "nDCG@20: 0.21873961448806123\n",
      "R@1000: 0.1646446392334767\n",
      "RBP(rel=1): 0.13168194380350867\n"
     ]
    }
   ],
   "source": [
    "import ir_measures\n",
    "from ir_measures import ScoredDoc, Qrel\n",
    "\n",
    "qrels = [\n",
    "    ir_measures.Qrel(query_id=row['query_id'], doc_id=row['doc_id'], relevance=row['relevance'])\n",
    "    for _, row in qrels_df.iterrows()\n",
    "]\n",
    "\n",
    "results = [\n",
    "    ScoredDoc(query_id=row['query_id'], doc_id=row['doc_id'], score=row['score'])\n",
    "    for _, row in bm25_results_df.iterrows()\n",
    "]\n",
    "\n",
    "metrics = [\n",
    "    ir_measures.nDCG @ 20,   # nDCG@20\n",
    "    ir_measures.AP,          # Average Precision\n",
    "    ir_measures.RBP(rel=1),\n",
    "    ir_measures.R @ 100,     # Recall@100\n",
    "    ir_measures.R @ 1000     # Recall@1000\n",
    "]\n",
    "\n",
    "# Evaluate\n",
    "evaluation = ir_measures.calc_aggregate(metrics, qrels, results)\n",
    "\n",
    "print(\"Evaluation Metrics:\")\n",
    "for metric, value in evaluation.items():\n",
    "    print(f\"{metric}: {value}\")\n"
   ]
  }
 ],
 "metadata": {
  "kernelspec": {
   "display_name": "my_env",
   "language": "python",
   "name": "python3"
  },
  "language_info": {
   "codemirror_mode": {
    "name": "ipython",
    "version": 3
   },
   "file_extension": ".py",
   "mimetype": "text/x-python",
   "name": "python",
   "nbconvert_exporter": "python",
   "pygments_lexer": "ipython3",
   "version": "3.11.4"
  }
 },
 "nbformat": 4,
 "nbformat_minor": 2
}
